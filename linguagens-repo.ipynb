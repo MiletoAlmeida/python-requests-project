{
 "cells": [
  {
   "cell_type": "markdown",
   "id": "bbb92cb8",
   "metadata": {},
   "source": [
    "# Obtendo dados"
   ]
  },
  {
   "cell_type": "code",
   "execution_count": 20,
   "id": "51e51e3e",
   "metadata": {},
   "outputs": [],
   "source": [
    "import requests"
   ]
  },
  {
   "cell_type": "code",
   "execution_count": 21,
   "id": "083ebad9",
   "metadata": {},
   "outputs": [],
   "source": [
    "r = requests.get('https://api.github.com/events')"
   ]
  },
  {
   "cell_type": "code",
   "execution_count": 22,
   "id": "9a0cd90b",
   "metadata": {},
   "outputs": [
    {
     "data": {
      "text/plain": [
       "<Response [200]>"
      ]
     },
     "execution_count": 22,
     "metadata": {},
     "output_type": "execute_result"
    }
   ],
   "source": [
    "r"
   ]
  },
  {
   "cell_type": "markdown",
   "id": "51f91946",
   "metadata": {},
   "source": [
    "# Extraindo dados"
   ]
  },
  {
   "cell_type": "code",
   "execution_count": 23,
   "id": "f8dbe562",
   "metadata": {},
   "outputs": [],
   "source": [
    "# especificando a versão da API\n",
    "headers = {'X-GitHub-Api-Version': '2022-11-28'}"
   ]
  },
  {
   "cell_type": "code",
   "execution_count": 24,
   "id": "02a1db13",
   "metadata": {},
   "outputs": [],
   "source": [
    "api_base_url = 'https://api.github.com'\n",
    "owner = 'amzn' # username de quem vamos extrair os dados\n",
    "url = f'{api_base_url}/users/{owner}/repos'"
   ]
  },
  {
   "cell_type": "code",
   "execution_count": 25,
   "id": "b44e928c",
   "metadata": {},
   "outputs": [
    {
     "data": {
      "text/plain": [
       "'https://api.github.com/users/amzn/repos'"
      ]
     },
     "execution_count": 25,
     "metadata": {},
     "output_type": "execute_result"
    }
   ],
   "source": [
    "url"
   ]
  },
  {
   "cell_type": "code",
   "execution_count": 26,
   "id": "106c0330",
   "metadata": {},
   "outputs": [
    {
     "data": {
      "text/plain": [
       "200"
      ]
     },
     "execution_count": 26,
     "metadata": {},
     "output_type": "execute_result"
    }
   ],
   "source": [
    "response = requests.get(url, headers=headers)\n",
    "response.status_code"
   ]
  },
  {
   "cell_type": "code",
   "execution_count": 27,
   "id": "fa360100",
   "metadata": {},
   "outputs": [
    {
     "data": {
      "text/plain": [
       "30"
      ]
     },
     "execution_count": 27,
     "metadata": {},
     "output_type": "execute_result"
    }
   ],
   "source": [
    "len(response.json())"
   ]
  },
  {
   "cell_type": "code",
   "execution_count": null,
   "id": "ed72567a",
   "metadata": {},
   "outputs": [],
   "source": [
    "##%pip install python-dotenv\n",
    "\n",
    "import os\n",
    "from dotenv import load_dotenv\n",
    "\n",
    "load_dotenv()\n",
    "access_token = os.getenv(\"GITHUB_TOKEN\") \n",
    "headers = {'Authorization': 'Bearer ' + access_token,\n",
    "           'X-GitHub-Api-Version': '2022-11-28'}"
   ]
  },
  {
   "cell_type": "code",
   "execution_count": 29,
   "id": "0358c17a",
   "metadata": {},
   "outputs": [
    {
     "data": {
      "text/plain": [
       "'https://api.github.com/users/amzn/repos'"
      ]
     },
     "execution_count": 29,
     "metadata": {},
     "output_type": "execute_result"
    }
   ],
   "source": [
    "api_base_url = 'https://api.github.com'\n",
    "owner = 'amzn' # username de quem vamos extrair os dados\n",
    "url = f'{api_base_url}/users/{owner}/repos'\n",
    "\n",
    "url"
   ]
  },
  {
   "cell_type": "code",
   "execution_count": 30,
   "id": "cdfda371",
   "metadata": {},
   "outputs": [],
   "source": [
    "repos_list = []\n",
    "for page_num in range(1, 6):\n",
    "    try:\n",
    "        url_page = f'{url}?page={page_num}'\n",
    "        response = requests.get(url_page, headers=headers)\n",
    "        repos_list.append(response.json())\n",
    "    except:\n",
    "        repos_list.append(None)"
   ]
  },
  {
   "cell_type": "code",
   "execution_count": 31,
   "id": "074f4ee7",
   "metadata": {},
   "outputs": [
    {
     "data": {
      "text/plain": [
       "'ads-pao-amznjs-gtm-server-side-template'"
      ]
     },
     "execution_count": 31,
     "metadata": {},
     "output_type": "execute_result"
    }
   ],
   "source": [
    "repos_list[0][2]['name']  # nome do terceiro repositório da primeira página"
   ]
  },
  {
   "cell_type": "code",
   "execution_count": 32,
   "id": "c5d1bfca",
   "metadata": {},
   "outputs": [],
   "source": [
    "repos_name = []\n",
    "for page in repos_list:\n",
    "    for repo in page:\n",
    "        repos_name.append(repo['name'])"
   ]
  },
  {
   "cell_type": "code",
   "execution_count": 33,
   "id": "225205e4",
   "metadata": {},
   "outputs": [
    {
     "data": {
      "text/plain": [
       "['.github',\n",
       " 'ads-advanced-tools-docs',\n",
       " 'ads-pao-amznjs-gtm-server-side-template',\n",
       " 'ads-pao-amznjs-gtm-template',\n",
       " 'alexa-coho',\n",
       " 'alexa-skills-kit-js',\n",
       " 'amazon-ads-advertiser-audience-normalization-sdk-py',\n",
       " 'amazon-advertising-api-php-sdk',\n",
       " 'amazon-codeguru-profiler-for-spark',\n",
       " 'amazon-frustration-free-setup-certification-tool']"
      ]
     },
     "execution_count": 33,
     "metadata": {},
     "output_type": "execute_result"
    }
   ],
   "source": [
    "repos_name[:10] # nomes dos 10 primeiros repositórios"
   ]
  },
  {
   "cell_type": "code",
   "execution_count": 34,
   "id": "e42bbb06",
   "metadata": {},
   "outputs": [
    {
     "data": {
      "text/plain": [
       "150"
      ]
     },
     "execution_count": 34,
     "metadata": {},
     "output_type": "execute_result"
    }
   ],
   "source": [
    "len(repos_name)"
   ]
  },
  {
   "cell_type": "code",
   "execution_count": 35,
   "id": "ae33ec6c",
   "metadata": {},
   "outputs": [
    {
     "data": {
      "text/plain": [
       "'PHP'"
      ]
     },
     "execution_count": 35,
     "metadata": {},
     "output_type": "execute_result"
    }
   ],
   "source": [
    "repos_list[1][1]['language']"
   ]
  },
  {
   "cell_type": "code",
   "execution_count": 36,
   "id": "0579b1e1",
   "metadata": {},
   "outputs": [],
   "source": [
    "repos_language = []\n",
    "for page in repos_list:\n",
    "    for repo in page:\n",
    "        repos_language.append(repo['language'])"
   ]
  },
  {
   "cell_type": "code",
   "execution_count": 37,
   "id": "1a244f83",
   "metadata": {},
   "outputs": [
    {
     "data": {
      "text/plain": [
       "150"
      ]
     },
     "execution_count": 37,
     "metadata": {},
     "output_type": "execute_result"
    }
   ],
   "source": [
    "len(repos_language)"
   ]
  },
  {
   "cell_type": "markdown",
   "id": "e252c402",
   "metadata": {},
   "source": [
    "# Criando um DataFrame"
   ]
  },
  {
   "cell_type": "code",
   "execution_count": 38,
   "id": "e101205b",
   "metadata": {},
   "outputs": [],
   "source": [
    "import pandas as pd"
   ]
  },
  {
   "cell_type": "code",
   "execution_count": 39,
   "id": "a66e31f4",
   "metadata": {},
   "outputs": [],
   "source": [
    "dados_amz = pd.DataFrame()\n",
    "dados_amz['repository_name'] = repos_name\n",
    "dados_amz['language'] = repos_language"
   ]
  },
  {
   "cell_type": "code",
   "execution_count": 40,
   "id": "16d452df",
   "metadata": {},
   "outputs": [
    {
     "data": {
      "text/html": [
       "<div>\n",
       "<style scoped>\n",
       "    .dataframe tbody tr th:only-of-type {\n",
       "        vertical-align: middle;\n",
       "    }\n",
       "\n",
       "    .dataframe tbody tr th {\n",
       "        vertical-align: top;\n",
       "    }\n",
       "\n",
       "    .dataframe thead th {\n",
       "        text-align: right;\n",
       "    }\n",
       "</style>\n",
       "<table border=\"1\" class=\"dataframe\">\n",
       "  <thead>\n",
       "    <tr style=\"text-align: right;\">\n",
       "      <th></th>\n",
       "      <th>repository_name</th>\n",
       "      <th>language</th>\n",
       "    </tr>\n",
       "  </thead>\n",
       "  <tbody>\n",
       "    <tr>\n",
       "      <th>0</th>\n",
       "      <td>.github</td>\n",
       "      <td>None</td>\n",
       "    </tr>\n",
       "    <tr>\n",
       "      <th>1</th>\n",
       "      <td>ads-advanced-tools-docs</td>\n",
       "      <td>Jupyter Notebook</td>\n",
       "    </tr>\n",
       "    <tr>\n",
       "      <th>2</th>\n",
       "      <td>ads-pao-amznjs-gtm-server-side-template</td>\n",
       "      <td>Smarty</td>\n",
       "    </tr>\n",
       "    <tr>\n",
       "      <th>3</th>\n",
       "      <td>ads-pao-amznjs-gtm-template</td>\n",
       "      <td>Smarty</td>\n",
       "    </tr>\n",
       "    <tr>\n",
       "      <th>4</th>\n",
       "      <td>alexa-coho</td>\n",
       "      <td>JavaScript</td>\n",
       "    </tr>\n",
       "    <tr>\n",
       "      <th>...</th>\n",
       "      <td>...</td>\n",
       "      <td>...</td>\n",
       "    </tr>\n",
       "    <tr>\n",
       "      <th>145</th>\n",
       "      <td>ss-aga-kgc</td>\n",
       "      <td>Python</td>\n",
       "    </tr>\n",
       "    <tr>\n",
       "      <th>146</th>\n",
       "      <td>sto-transformer</td>\n",
       "      <td>Python</td>\n",
       "    </tr>\n",
       "    <tr>\n",
       "      <th>147</th>\n",
       "      <td>supply-chain-simulation-environment</td>\n",
       "      <td>Python</td>\n",
       "    </tr>\n",
       "    <tr>\n",
       "      <th>148</th>\n",
       "      <td>tiny-attribution-generator</td>\n",
       "      <td>TypeScript</td>\n",
       "    </tr>\n",
       "    <tr>\n",
       "      <th>149</th>\n",
       "      <td>traffic-quality-smart-pixel-loader</td>\n",
       "      <td>TypeScript</td>\n",
       "    </tr>\n",
       "  </tbody>\n",
       "</table>\n",
       "<p>150 rows × 2 columns</p>\n",
       "</div>"
      ],
      "text/plain": [
       "                             repository_name          language\n",
       "0                                    .github              None\n",
       "1                    ads-advanced-tools-docs  Jupyter Notebook\n",
       "2    ads-pao-amznjs-gtm-server-side-template            Smarty\n",
       "3                ads-pao-amznjs-gtm-template            Smarty\n",
       "4                                 alexa-coho        JavaScript\n",
       "..                                       ...               ...\n",
       "145                               ss-aga-kgc            Python\n",
       "146                          sto-transformer            Python\n",
       "147      supply-chain-simulation-environment            Python\n",
       "148               tiny-attribution-generator        TypeScript\n",
       "149       traffic-quality-smart-pixel-loader        TypeScript\n",
       "\n",
       "[150 rows x 2 columns]"
      ]
     },
     "execution_count": 40,
     "metadata": {},
     "output_type": "execute_result"
    }
   ],
   "source": [
    "dados_amz"
   ]
  },
  {
   "cell_type": "code",
   "execution_count": 41,
   "id": "630f415d",
   "metadata": {},
   "outputs": [],
   "source": [
    "dados_amz.to_csv('data/test-notebook-amazon.csv')"
   ]
  },
  {
   "cell_type": "code",
   "execution_count": 42,
   "id": "4cb61649",
   "metadata": {},
   "outputs": [],
   "source": [
    "path_data = 'data/test-notebook-amazon.csv'"
   ]
  }
 ],
 "metadata": {
  "kernelspec": {
   "display_name": "Python 3",
   "language": "python",
   "name": "python3"
  },
  "language_info": {
   "codemirror_mode": {
    "name": "ipython",
    "version": 3
   },
   "file_extension": ".py",
   "mimetype": "text/x-python",
   "name": "python",
   "nbconvert_exporter": "python",
   "pygments_lexer": "ipython3",
   "version": "3.11.9"
  }
 },
 "nbformat": 4,
 "nbformat_minor": 5
}
